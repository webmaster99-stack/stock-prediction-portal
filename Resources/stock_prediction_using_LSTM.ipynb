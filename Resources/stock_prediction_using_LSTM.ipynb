{
 "cells": [
  {
   "cell_type": "code",
   "execution_count": null,
   "id": "88cde012-c508-4510-8d92-55cd9c2fe302",
   "metadata": {},
   "outputs": [],
   "source": [
    "import numpy as np\n",
    "import pandas as pd\n",
    "import matplotlib.pyplot as plt\n",
    "import yfinance as yf\n",
    "from datetime import datetime"
   ]
  },
  {
   "cell_type": "code",
   "execution_count": null,
   "id": "7188358d-9214-4587-b4ca-84e1680b1c49",
   "metadata": {},
   "outputs": [],
   "source": []
  },
  {
   "cell_type": "markdown",
   "id": "caba2d95-cafc-490f-861f-987d7fd4490a",
   "metadata": {},
   "source": [
    "# 1.Data Collection"
   ]
  },
  {
   "cell_type": "code",
   "execution_count": null,
   "id": "53181bfe-ba86-4768-99e9-39ab9839e991",
   "metadata": {},
   "outputs": [],
   "source": [
    "now = datetime.now()\n",
    "\n",
    "ticker = \"AAPL\"\n",
    "start = datetime(now.year - 10, now.month, now.day)\n",
    "end = now \n",
    "df = yf.download(ticker, start=start, end=end, multi_level_index=False)"
   ]
  },
  {
   "cell_type": "code",
   "execution_count": null,
   "id": "53fe0d8d-e261-4f58-a843-4e2abf2f49e1",
   "metadata": {},
   "outputs": [],
   "source": [
    "df"
   ]
  },
  {
   "cell_type": "code",
   "execution_count": null,
   "id": "6023999c-4d02-436f-8f89-11e7d68d5fb9",
   "metadata": {},
   "outputs": [],
   "source": []
  },
  {
   "cell_type": "markdown",
   "id": "c1d62b6c-9d7b-4233-949f-90c2102871a5",
   "metadata": {},
   "source": [
    "# 2. Data Exploration & Visualization"
   ]
  },
  {
   "cell_type": "code",
   "execution_count": null,
   "id": "6efeab53-77af-4779-9b7d-e00192e0e7cd",
   "metadata": {},
   "outputs": [],
   "source": [
    "df.head()"
   ]
  },
  {
   "cell_type": "code",
   "execution_count": null,
   "id": "b8d21402-2889-4b66-94a4-4fbe7d49a8f6",
   "metadata": {},
   "outputs": [],
   "source": [
    "type(df)"
   ]
  },
  {
   "cell_type": "code",
   "execution_count": null,
   "id": "eb28c626-8e3a-43f3-aa4a-9a832ba3fa06",
   "metadata": {},
   "outputs": [],
   "source": [
    "df.shape"
   ]
  },
  {
   "cell_type": "code",
   "execution_count": null,
   "id": "6a9ad3e5-a89b-4ed4-977c-88609ab482c1",
   "metadata": {},
   "outputs": [],
   "source": [
    "df.isna().sum()"
   ]
  },
  {
   "cell_type": "code",
   "execution_count": null,
   "id": "a8e0935a-45f2-42fc-9e6f-ffa71a9f9065",
   "metadata": {},
   "outputs": [],
   "source": [
    "df.describe()"
   ]
  },
  {
   "cell_type": "code",
   "execution_count": null,
   "id": "53785575-c469-4faa-9674-c40077a3a970",
   "metadata": {},
   "outputs": [],
   "source": [
    "df.dtypes"
   ]
  },
  {
   "cell_type": "code",
   "execution_count": null,
   "id": "488e30f5-f8c8-4601-9b2d-fc0cd33bd021",
   "metadata": {},
   "outputs": [],
   "source": [
    "df.columns"
   ]
  },
  {
   "cell_type": "code",
   "execution_count": null,
   "id": "582ba8e0-fd87-496a-bd0c-6d5bbe7f31f5",
   "metadata": {},
   "outputs": [],
   "source": [
    "df = df.reset_index()"
   ]
  },
  {
   "cell_type": "code",
   "execution_count": null,
   "id": "8d9e2232-2ec8-43f0-8c27-4021f02e07c0",
   "metadata": {},
   "outputs": [],
   "source": [
    "df.head()"
   ]
  },
  {
   "cell_type": "code",
   "execution_count": null,
   "id": "3484a502-7704-4508-adee-210321de87fd",
   "metadata": {},
   "outputs": [],
   "source": [
    "plt.figure(figsize=(12, 5));\n",
    "plt.plot(df.Close);\n",
    "plt.title(ticker);\n",
    "plt.xlabel(\"Days\");\n",
    "plt.ylabel(\"Close Price\");"
   ]
  },
  {
   "cell_type": "code",
   "execution_count": null,
   "id": "09666255-c126-40d4-9661-4e89bcb06724",
   "metadata": {},
   "outputs": [],
   "source": []
  },
  {
   "cell_type": "markdown",
   "id": "d8991608-f5e2-4206-8745-b39d4e5d734a",
   "metadata": {},
   "source": [
    "# Feature Engineering"
   ]
  },
  {
   "cell_type": "code",
   "execution_count": null,
   "id": "3efee507-1571-468a-b0b0-d5b7057c4d9e",
   "metadata": {},
   "outputs": [],
   "source": [
    "# Calculating the moving average\n",
    "temp_df = [10, 20, 30, 40, 50, 60, 70, 80, 90, 100]\n",
    "print(sum(temp_df[2:7]) / 5)"
   ]
  },
  {
   "cell_type": "code",
   "execution_count": null,
   "id": "3e4de85b-a5dd-45f2-9959-7a8051d26a61",
   "metadata": {},
   "outputs": [],
   "source": [
    "df1 = pd.DataFrame(temp_df)\n",
    "df1"
   ]
  },
  {
   "cell_type": "code",
   "execution_count": null,
   "id": "74d5529d-ba44-4742-afba-cfad6da084a2",
   "metadata": {},
   "outputs": [],
   "source": [
    "df1[\"MA_5\"] = df1.rolling(5).mean()\n",
    "df1"
   ]
  },
  {
   "cell_type": "code",
   "execution_count": null,
   "id": "b5cd7bef-489a-4bc7-8a0c-12c986458e13",
   "metadata": {},
   "outputs": [],
   "source": []
  },
  {
   "cell_type": "markdown",
   "id": "df3dbc55-8b2f-4676-8d55-c947cbbfd6ae",
   "metadata": {},
   "source": [
    "### 100 Days Moving Average"
   ]
  },
  {
   "cell_type": "code",
   "execution_count": null,
   "id": "17490eac-0934-4980-9e41-af0f20a27753",
   "metadata": {},
   "outputs": [],
   "source": [
    "df[\"MA_100\"] = df.Close.rolling(100).mean()"
   ]
  },
  {
   "cell_type": "code",
   "execution_count": null,
   "id": "5dbf1052-6c43-4ba0-9ffc-489c0137ecc3",
   "metadata": {},
   "outputs": [],
   "source": [
    "df.head()"
   ]
  },
  {
   "cell_type": "code",
   "execution_count": null,
   "id": "0b963587-3a39-4cdb-970e-06fa7916406f",
   "metadata": {},
   "outputs": [],
   "source": [
    "df.head(103)"
   ]
  },
  {
   "cell_type": "code",
   "execution_count": null,
   "id": "58fa3a07-5ed7-42f9-92d7-e33f385189f0",
   "metadata": {},
   "outputs": [],
   "source": [
    "plt.figure(figsize=(12, 5))\n",
    "plt.plot(df.Close)\n",
    "plt.plot(df.MA_100, \"r\")\n",
    "plt.title(\"100 Days Moving Avg.\")\n",
    "plt.xlabel(\"Days\")\n",
    "plt.ylabel(\"Price\")"
   ]
  },
  {
   "cell_type": "code",
   "execution_count": null,
   "id": "4f841f92-f669-4e6c-bd72-1e39c2cca1a6",
   "metadata": {},
   "outputs": [],
   "source": []
  },
  {
   "cell_type": "markdown",
   "id": "74a430fa-0801-4739-a78d-653c257259c4",
   "metadata": {},
   "source": [
    "### 200 Days Moving Average"
   ]
  },
  {
   "cell_type": "code",
   "execution_count": null,
   "id": "18535ee0-279a-4efb-9719-aed29c5a156e",
   "metadata": {},
   "outputs": [],
   "source": [
    "df[\"MA_200\"] = df.Close.rolling(200).mean()"
   ]
  },
  {
   "cell_type": "code",
   "execution_count": null,
   "id": "dcaf0b04-5ce0-4af4-9ab6-0864110ddacc",
   "metadata": {},
   "outputs": [],
   "source": [
    "df.head()"
   ]
  },
  {
   "cell_type": "code",
   "execution_count": null,
   "id": "f2e947e0-42f3-468d-a253-de9f9f23fa59",
   "metadata": {},
   "outputs": [],
   "source": [
    "df.head(203)"
   ]
  },
  {
   "cell_type": "code",
   "execution_count": null,
   "id": "8e1e5f0f-933c-4530-91fd-7e60dd39571d",
   "metadata": {},
   "outputs": [],
   "source": [
    "plt.figure(figsize=(12, 5))\n",
    "plt.plot(df.Close)\n",
    "plt.plot(df.MA_100, \"r\")\n",
    "plt.plot(df.MA_200, \"g\")\n",
    "plt.title(\"200 Days Moving Avg.\")\n",
    "plt.xlabel(\"Days\")\n",
    "plt.ylabel(\"Price\")"
   ]
  },
  {
   "cell_type": "code",
   "execution_count": null,
   "id": "4453a0cc-ef3d-40fc-ace2-dbdce716ea92",
   "metadata": {},
   "outputs": [],
   "source": []
  },
  {
   "cell_type": "markdown",
   "id": "38cd4a51-8754-409f-a0b8-160ccbf64336",
   "metadata": {},
   "source": [
    "### Percentage Changed Per Trading Session"
   ]
  },
  {
   "cell_type": "code",
   "execution_count": null,
   "id": "d203806f-7939-4650-b17b-6bbf645b9c34",
   "metadata": {},
   "outputs": [],
   "source": [
    "df[\"Percentage Changed\"] = df.Close.pct_change()"
   ]
  },
  {
   "cell_type": "code",
   "execution_count": null,
   "id": "4c2df1c0-8350-47a2-9deb-93dc953ab50e",
   "metadata": {},
   "outputs": [],
   "source": [
    "df[[\"Close\", \"Percentage Changed\"]]"
   ]
  },
  {
   "cell_type": "code",
   "execution_count": null,
   "id": "feee336e-6454-432a-9802-a2ce2960e295",
   "metadata": {},
   "outputs": [],
   "source": [
    "plt.figure(figsize=(12, 5))\n",
    "plt.plot(df[\"Percentage Changed\"])"
   ]
  },
  {
   "cell_type": "code",
   "execution_count": null,
   "id": "b1595e7d-35ab-437a-b793-6ef408d74425",
   "metadata": {},
   "outputs": [],
   "source": []
  },
  {
   "cell_type": "markdown",
   "id": "209a2a02-c950-4514-b553-af28d0f7b74d",
   "metadata": {},
   "source": [
    "# 4. Data Preprocessing"
   ]
  },
  {
   "cell_type": "code",
   "execution_count": null,
   "id": "753d670e-15d5-4034-bba6-a17b5dad5a64",
   "metadata": {},
   "outputs": [],
   "source": [
    "df.shape"
   ]
  },
  {
   "cell_type": "code",
   "execution_count": null,
   "id": "1087bb26-2604-4a98-a285-d4086f02d9ae",
   "metadata": {},
   "outputs": [],
   "source": [
    "# Splitting the data into Training & Testing datasets\n",
    "data_training = pd.DataFrame(df.Close[0:int(len(df) * 0.7)])\n",
    "data_testing = pd.DataFrame(df.Close[int(len(df) * 0.7):int(len(df))])\n",
    "\n",
    "print(data_training)\n",
    "print(data_testing)"
   ]
  },
  {
   "cell_type": "code",
   "execution_count": null,
   "id": "345a407c-3e7f-42c2-b68a-f90a8029179b",
   "metadata": {},
   "outputs": [],
   "source": []
  },
  {
   "cell_type": "code",
   "execution_count": null,
   "id": "971d711e-b60d-48bd-880d-a4018cb91ac6",
   "metadata": {},
   "outputs": [],
   "source": [
    "# Scalling down the data between 0 and 1\n",
    "from sklearn.preprocessing import MinMaxScaler\n",
    "\n",
    "scaller = MinMaxScaler(feature_range=(0, 1))"
   ]
  },
  {
   "cell_type": "code",
   "execution_count": null,
   "id": "3f6dd8c5-1b8b-4fd1-a4e1-528c560bf8a9",
   "metadata": {},
   "outputs": [],
   "source": [
    "data_training_array = scaller.fit_transform(data_training)\n",
    "data_training_array"
   ]
  },
  {
   "cell_type": "code",
   "execution_count": null,
   "id": "a9fdf46e-5291-4350-91a9-6e8c7d7882b9",
   "metadata": {},
   "outputs": [],
   "source": [
    "data_training_array.shape"
   ]
  },
  {
   "cell_type": "code",
   "execution_count": null,
   "id": "10f7dee8-50ea-43b9-90e5-7c92879f2cf6",
   "metadata": {},
   "outputs": [],
   "source": []
  },
  {
   "cell_type": "markdown",
   "id": "95143b23-c38f-4a36-a61e-d31f4911232e",
   "metadata": {},
   "source": [
    "# 5. Sequence Creation"
   ]
  },
  {
   "cell_type": "code",
   "execution_count": null,
   "id": "0c473290-5c6f-4d08-9812-3ef9011b6b2c",
   "metadata": {},
   "outputs": [],
   "source": [
    "x_train = []\n",
    "y_train = []\n",
    "\n",
    "for i in range(100, data_training_array.shape[0]):\n",
    "    x_train.append(data_training_array[i - 100:i])\n",
    "    y_train.append(data_training_array[i, 0])\n",
    "\n",
    "x_train, y_train = np.array(x_train), np.array(y_train)"
   ]
  },
  {
   "cell_type": "code",
   "execution_count": null,
   "id": "41204a0f-71d9-4ea0-91a0-2737c7c818fd",
   "metadata": {},
   "outputs": [],
   "source": [
    "y_train"
   ]
  },
  {
   "cell_type": "code",
   "execution_count": null,
   "id": "c2dfc9e2-76df-484b-a4b0-f027837f15b4",
   "metadata": {},
   "outputs": [],
   "source": [
    "x_train"
   ]
  },
  {
   "cell_type": "code",
   "execution_count": null,
   "id": "fc1a2e3a-1849-4016-b962-555af08d0aa8",
   "metadata": {},
   "outputs": [],
   "source": [
    "y_train"
   ]
  },
  {
   "cell_type": "code",
   "execution_count": null,
   "id": "b93a7d0f-5f8c-4de3-a78f-4b39d5e8a34b",
   "metadata": {},
   "outputs": [],
   "source": []
  },
  {
   "cell_type": "markdown",
   "id": "e5e88e7d-b029-42d7-997b-757616cab4d0",
   "metadata": {},
   "source": [
    "# 6. Model Building"
   ]
  },
  {
   "cell_type": "code",
   "execution_count": null,
   "id": "f76937ca-4c46-47f5-bc74-7e4c4d11e6ae",
   "metadata": {},
   "outputs": [],
   "source": [
    "import tensorflow as tf\n",
    "\n",
    "print(tf.__version__)"
   ]
  },
  {
   "cell_type": "code",
   "execution_count": null,
   "id": "dc003111-d749-4eea-ab61-3662e32e7ffb",
   "metadata": {},
   "outputs": [],
   "source": [
    "# ML Model\n",
    "from keras.models import Sequential\n",
    "from keras.layers import Dense, LSTM, Input"
   ]
  },
  {
   "cell_type": "code",
   "execution_count": null,
   "id": "086be475-1b50-44ec-9705-85bc3da01173",
   "metadata": {},
   "outputs": [],
   "source": [
    "model = Sequential()\n",
    "model.add(Input(shape=(100, 1)))\n",
    "model.add(LSTM(units=128, activation=\"tanh\", return_sequences=True))\n",
    "model.add(LSTM(units=64))\n",
    "model.add(Dense(25))\n",
    "model.add(Dense(1))"
   ]
  },
  {
   "cell_type": "code",
   "execution_count": null,
   "id": "82745ed8-db65-45c8-bd6e-19ca41992898",
   "metadata": {},
   "outputs": [],
   "source": []
  },
  {
   "cell_type": "markdown",
   "id": "08948d3d-d72d-4469-a1c9-02a61b3572cf",
   "metadata": {},
   "source": [
    "# 7. Model Training"
   ]
  },
  {
   "cell_type": "code",
   "execution_count": null,
   "id": "1019220e-5a6b-4fd4-a6e3-7e25c15a2b8b",
   "metadata": {},
   "outputs": [],
   "source": [
    "model.compile(optimizer=\"adam\", loss=\"mean_squared_error\")\n",
    "model.fit(x_train, y_train, epochs=50)"
   ]
  },
  {
   "cell_type": "code",
   "execution_count": null,
   "id": "4a44023a-da3f-4ee2-80dd-4d04e25376d4",
   "metadata": {},
   "outputs": [],
   "source": [
    "# Saving the model\n",
    "model.save(\"stock_predicton_model.keras\")"
   ]
  },
  {
   "cell_type": "code",
   "execution_count": null,
   "id": "4a72425b-4971-4b0e-a7c8-8446e966fbd9",
   "metadata": {},
   "outputs": [],
   "source": []
  },
  {
   "cell_type": "markdown",
   "id": "38cb28fb-e421-4919-878a-6ea5fe1ee331",
   "metadata": {},
   "source": [
    "# 8. Preparing Test Data"
   ]
  },
  {
   "cell_type": "code",
   "execution_count": null,
   "id": "24f1affb-da17-4712-9191-200a495f4885",
   "metadata": {},
   "outputs": [],
   "source": [
    "data_training.tail(100)"
   ]
  },
  {
   "cell_type": "code",
   "execution_count": null,
   "id": "5d445247-eb50-4c9c-8ec1-48c4f2ad4af8",
   "metadata": {},
   "outputs": [],
   "source": [
    "data_testing"
   ]
  },
  {
   "cell_type": "code",
   "execution_count": null,
   "id": "219dffc9-4de1-4071-b9c9-a2a55233c00e",
   "metadata": {},
   "outputs": [],
   "source": [
    "past_100_days = data_training.tail(100)"
   ]
  },
  {
   "cell_type": "code",
   "execution_count": null,
   "id": "78bcf8e0-08d9-4200-b3eb-95c4f3ba58d5",
   "metadata": {},
   "outputs": [],
   "source": [
    "past_100_days"
   ]
  },
  {
   "cell_type": "code",
   "execution_count": null,
   "id": "cf66b5bb-c2b7-4327-8fec-a0e9f4d8dff3",
   "metadata": {},
   "outputs": [],
   "source": [
    "final_df = pd.concat([past_100_days, data_testing], ignore_index=True)"
   ]
  },
  {
   "cell_type": "code",
   "execution_count": null,
   "id": "e106184f-3793-423c-8f1d-43d8e760c2ac",
   "metadata": {},
   "outputs": [],
   "source": [
    "input_data = scaller.fit_transform(final_df)\n",
    "input_data"
   ]
  },
  {
   "cell_type": "code",
   "execution_count": null,
   "id": "933f19a9-909b-4000-a6b7-9e2c3185c1d0",
   "metadata": {},
   "outputs": [],
   "source": [
    "x_test = []\n",
    "y_test = []\n",
    "\n",
    "for i in range(100, input_data.shape[0]):\n",
    "    x_test.append(input_data[i - 100:i])\n",
    "    y_test.append(input_data[i, 0])"
   ]
  },
  {
   "cell_type": "code",
   "execution_count": null,
   "id": "410e54fe-5977-4bbf-a40f-3183b40a271a",
   "metadata": {},
   "outputs": [],
   "source": [
    "x_test, y_test = np.array(x_test), np.array(y_test)"
   ]
  },
  {
   "cell_type": "code",
   "execution_count": null,
   "id": "ca975c7c-f8ad-4b87-a794-ddb5a9304e61",
   "metadata": {},
   "outputs": [],
   "source": [
    "x_test"
   ]
  },
  {
   "cell_type": "code",
   "execution_count": null,
   "id": "22c39885-f70e-40b7-812d-5fe662deff1c",
   "metadata": {},
   "outputs": [],
   "source": [
    "y_test"
   ]
  },
  {
   "cell_type": "markdown",
   "id": "c94ffb36-1ec1-4e4a-a8e2-9416a9c1d554",
   "metadata": {},
   "source": [
    "# 9. Making Predictions"
   ]
  },
  {
   "cell_type": "code",
   "execution_count": null,
   "id": "50544ff9-6daa-41f4-8814-dc3612dc32d9",
   "metadata": {},
   "outputs": [],
   "source": [
    "y_predicted = model.predict(x_test)"
   ]
  },
  {
   "cell_type": "code",
   "execution_count": null,
   "id": "accb67cd-c3bf-4a16-83b8-67fab4b0999b",
   "metadata": {},
   "outputs": [],
   "source": [
    "y_predicted = scaller.inverse_transform(y_predicted.reshape(-1, 1)).flatten()\n",
    "y_test = scaller.inverse_transform(y_test.reshape(-1, 1)).flatten()"
   ]
  },
  {
   "cell_type": "code",
   "execution_count": null,
   "id": "f9d5c14b-cd55-4d7c-babc-6ef8de9ccc3e",
   "metadata": {},
   "outputs": [],
   "source": [
    "y_predicted"
   ]
  },
  {
   "cell_type": "code",
   "execution_count": null,
   "id": "25d8e133-6ed5-4baa-ae96-e05f9b436896",
   "metadata": {},
   "outputs": [],
   "source": [
    "y_predicted"
   ]
  },
  {
   "cell_type": "code",
   "execution_count": null,
   "id": "0b963e12-5dc4-45a4-a26b-c193e45d65b5",
   "metadata": {},
   "outputs": [],
   "source": [
    "plt.figure(figsize=(12, 6));\n",
    "plt.plot(y_test, \"b\", label=\"Original Price\");\n",
    "plt.plot(y_predicted, \"r\", label=\"Predicted Price\");\n",
    "plt.xlabel(\"Days\");\n",
    "plt.ylabel(\"Price\");\n",
    "plt.legend();"
   ]
  },
  {
   "cell_type": "code",
   "execution_count": null,
   "id": "5f26c390-cc45-4135-a5fc-3a826676ea27",
   "metadata": {},
   "outputs": [],
   "source": []
  },
  {
   "cell_type": "markdown",
   "id": "92fa5a56-1c6e-42a5-96b6-c7d8eb4e5bfb",
   "metadata": {},
   "source": [
    "# 10. Model Evaluation"
   ]
  },
  {
   "cell_type": "code",
   "execution_count": null,
   "id": "91886c8a-5f3d-40bf-8a75-f74d83f393b9",
   "metadata": {},
   "outputs": [],
   "source": [
    "# Mean Squared Error\n",
    "from sklearn.metrics import mean_squared_error, r2_score\n",
    "\n",
    "mse = mean_squared_error(y_test, y_predicted)\n",
    "print(f\"Mean Squared Error (MSE): {mse}\")"
   ]
  },
  {
   "cell_type": "code",
   "execution_count": null,
   "id": "a497e2eb-c9e0-4b7b-8801-6d410eb342ca",
   "metadata": {},
   "outputs": [],
   "source": []
  },
  {
   "cell_type": "code",
   "execution_count": null,
   "id": "adee72bb-9c2d-4078-ba80-fcd7cb63a3c1",
   "metadata": {},
   "outputs": [],
   "source": [
    "# Root Mean Squared Error\n",
    "rmse = np.sqrt(mse)\n",
    "print(f\"Root Mean Squared Error (RMSE): {rmse}\")"
   ]
  },
  {
   "cell_type": "code",
   "execution_count": null,
   "id": "980eeee6-d31c-4614-aa56-9c2ed99baa9b",
   "metadata": {},
   "outputs": [],
   "source": [
    "# R-Squared\n",
    "r2= r2_score(y_test, y_predicted)\n",
    "print(f\"R-Squared (R2): {r2}\")"
   ]
  },
  {
   "cell_type": "code",
   "execution_count": null,
   "id": "9f6479ac-a0b0-48be-bba3-2fab4fb83b4e",
   "metadata": {},
   "outputs": [],
   "source": []
  }
 ],
 "metadata": {
  "kernelspec": {
   "display_name": "Python 3 (ipykernel)",
   "language": "python",
   "name": "python3"
  },
  "language_info": {
   "codemirror_mode": {
    "name": "ipython",
    "version": 3
   },
   "file_extension": ".py",
   "mimetype": "text/x-python",
   "name": "python",
   "nbconvert_exporter": "python",
   "pygments_lexer": "ipython3",
   "version": "3.13.7"
  }
 },
 "nbformat": 4,
 "nbformat_minor": 5
}
